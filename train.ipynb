{
 "cells": [
  {
   "cell_type": "code",
   "execution_count": 56,
   "id": "devoted-modeling",
   "metadata": {},
   "outputs": [],
   "source": [
    "import cv2\n",
    "import numpy as np\n",
    "import matplotlib.pyplot as plt\n",
    "import os\n",
    "from tensorflow import keras\n",
    "from tensorflow.keras.models import Sequential\n",
    "from tensorflow.keras.layers import Dense, Dropout, Activation, Flatten, Conv2D, MaxPooling2D\n",
    "from sklearn.model_selection import train_test_split"
   ]
  },
  {
   "cell_type": "code",
   "execution_count": 53,
   "id": "continuing-newton",
   "metadata": {},
   "outputs": [],
   "source": [
    "DIRECTORY = r'./data'\n",
    "CATEGORIES = ['vehicles', 'non-vehicles']\n",
    "IMG_SIZE = 64\n",
    "\n",
    "X = []\n",
    "y = []\n",
    "\n",
    "def create_train_data():\n",
    "    for category in CATEGORIES:\n",
    "        path = os.path.join(DIRECTORY, category)\n",
    "        label = 1 if category == 'vehicles' else 0\n",
    "\n",
    "        for img in os.listdir(path):\n",
    "            try:\n",
    "                img_array = cv2.imread(os.path.join(path, img), cv2.IMREAD_GRAYSCALE)\n",
    "                new_array = cv2.resize(img_array, (IMG_SIZE, IMG_SIZE))\n",
    "                X.append(new_array)\n",
    "                y.append(label)\n",
    "            except Exception as e:\n",
    "                pass\n",
    "\n",
    "create_train_data()"
   ]
  },
  {
   "cell_type": "code",
   "execution_count": 54,
   "id": "naked-breathing",
   "metadata": {},
   "outputs": [],
   "source": [
    "X = np.array(X).reshape(-1, IMG_SIZE, IMG_SIZE, 1)\n",
    "\n",
    "X_train, X_test, y_train, y_test = train_test_split(\n",
    "    X, y, test_size=0.20, random_state=42)"
   ]
  },
  {
   "cell_type": "code",
   "execution_count": 55,
   "id": "overall-egypt",
   "metadata": {},
   "outputs": [],
   "source": [
    "import pickle\n",
    "\n",
    "pickle_out = open('X_train.pickle', 'wb')\n",
    "pickle.dump(X_train, pickle_out)\n",
    "pickle_out.close()\n",
    "\n",
    "pickle_out = open('y_train.pickle', 'wb')\n",
    "pickle.dump(y_train, pickle_out)\n",
    "pickle_out.close()"
   ]
  },
  {
   "cell_type": "code",
   "execution_count": 61,
   "id": "differential-married",
   "metadata": {},
   "outputs": [
    {
     "name": "stdout",
     "output_type": "stream",
     "text": [
      "Train on 11366 samples, validate on 2842 samples\n",
      "Epoch 1/9\n",
      "11366/11366 [==============================] - 48s 4ms/sample - loss: 0.2703 - acc: 0.8797 - val_loss: 0.1146 - val_acc: 0.9613\n",
      "Epoch 2/9\n",
      "11366/11366 [==============================] - 46s 4ms/sample - loss: 0.1034 - acc: 0.9610 - val_loss: 0.0800 - val_acc: 0.9726\n",
      "Epoch 3/9\n",
      "11366/11366 [==============================] - 46s 4ms/sample - loss: 0.0739 - acc: 0.9744 - val_loss: 0.0675 - val_acc: 0.9778\n",
      "Epoch 4/9\n",
      "11366/11366 [==============================] - 46s 4ms/sample - loss: 0.0603 - acc: 0.9775 - val_loss: 0.0690 - val_acc: 0.9799\n",
      "Epoch 5/9\n",
      "11366/11366 [==============================] - 46s 4ms/sample - loss: 0.0449 - acc: 0.9835 - val_loss: 0.0637 - val_acc: 0.9792\n",
      "Epoch 6/9\n",
      "11366/11366 [==============================] - 46s 4ms/sample - loss: 0.0396 - acc: 0.9868 - val_loss: 0.1258 - val_acc: 0.9624\n",
      "Epoch 7/9\n",
      "11366/11366 [==============================] - 46s 4ms/sample - loss: 0.0336 - acc: 0.9871 - val_loss: 0.0546 - val_acc: 0.9806\n",
      "Epoch 8/9\n",
      "11366/11366 [==============================] - 46s 4ms/sample - loss: 0.0195 - acc: 0.9942 - val_loss: 0.0523 - val_acc: 0.9828\n",
      "Epoch 9/9\n",
      "11366/11366 [==============================] - 46s 4ms/sample - loss: 0.0300 - acc: 0.9897 - val_loss: 0.0518 - val_acc: 0.9824\n"
     ]
    },
    {
     "data": {
      "text/plain": [
       "<tensorflow.python.keras.callbacks.History at 0x1d19556d0>"
      ]
     },
     "execution_count": 61,
     "metadata": {},
     "output_type": "execute_result"
    }
   ],
   "source": [
    "X = pickle.load(open('X_train.pickle', 'rb'))\n",
    "y = pickle.load(open('y_train.pickle', 'rb'))\n",
    "X = X/255.0    # Normalizes data\n",
    "\n",
    "model = Sequential()\n",
    "model.add(Conv2D(64, (3,3), input_shape=X.shape[1:]))\n",
    "model.add(Activation('relu'))\n",
    "model.add(MaxPooling2D(pool_size=(2,2)))\n",
    "\n",
    "model.add(Conv2D(64, (3,3)))\n",
    "model.add(Activation('relu'))\n",
    "model.add(MaxPooling2D(pool_size=(2,2)))\n",
    "\n",
    "model.add(Flatten())\n",
    "model.add(Dense(64))\n",
    "\n",
    "model.add(Dense(1))\n",
    "model.add(Activation('sigmoid'))\n",
    "\n",
    "model.compile(loss='binary_crossentropy',\n",
    "              optimizer='adam',\n",
    "              metrics=['accuracy'])\n",
    "\n",
    "model.fit(X, y, batch_size=64, epochs=9, validation_split=0.2)"
   ]
  },
  {
   "cell_type": "code",
   "execution_count": 62,
   "id": "legislative-wiring",
   "metadata": {},
   "outputs": [],
   "source": [
    "model.save('model.model')"
   ]
  }
 ],
 "metadata": {
  "kernelspec": {
   "display_name": "Python 3",
   "language": "python",
   "name": "python3"
  },
  "language_info": {
   "codemirror_mode": {
    "name": "ipython",
    "version": 3
   },
   "file_extension": ".py",
   "mimetype": "text/x-python",
   "name": "python",
   "nbconvert_exporter": "python",
   "pygments_lexer": "ipython3",
   "version": "3.7.9"
  }
 },
 "nbformat": 4,
 "nbformat_minor": 5
}
